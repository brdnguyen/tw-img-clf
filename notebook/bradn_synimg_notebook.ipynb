{
 "cells": [
  {
   "cell_type": "code",
   "execution_count": 1,
   "metadata": {},
   "outputs": [
    {
     "name": "stdout",
     "output_type": "stream",
     "text": [
      "\u001b[0m\u001b[01;34msynimg\u001b[0m/\n",
      "train-Beijing-1050000.jpg\n",
      "train-Beijing-1050001.jpg\n",
      "train-Beijing-1050002.jpg\n",
      "train-Beijing-1050003.jpg\n",
      "train-Beijing-1050004.jpg\n",
      "ls: write error\n"
     ]
    }
   ],
   "source": [
    "%ls ../input\n",
    "%ls ../input/synimg/synimg/train/Beijing | head -5\n"
   ]
  },
  {
   "cell_type": "code",
   "execution_count": 2,
   "metadata": {},
   "outputs": [
    {
     "name": "stderr",
     "output_type": "stream",
     "text": [
      "Using TensorFlow backend.\n"
     ]
    }
   ],
   "source": [
    "from keras.preprocessing.image import ImageDataGenerator\n",
    "from keras import layers, models, optimizers\n",
    "from keras import backend as K\n",
    "import skimage.io as io\n",
    "import os\n",
    "import matplotlib.pylab as plt\n",
    "import numpy as np\n",
    "import pandas as pd\n"
   ]
  },
  {
   "cell_type": "code",
   "execution_count": 3,
   "metadata": {},
   "outputs": [],
   "source": [
    "WIDTH = 64\n",
    "HEIGHT = 32\n",
    "ROOT_PATH = '../input/synimg/'"
   ]
  },
  {
   "cell_type": "markdown",
   "metadata": {},
   "source": [
    "# Objectives of this setting up script is:\n",
    "* Setup all environments (libraries/ dependencies. Folder structure to be compatible with Kaggle kernel)\n",
    "* Doing basic input/output. Output that is compatible with submission format\n",
    "* Some basic utility functions:\n",
    "    * show image\n",
    "    * image to binary array data\n",
    "    * binary data back to image data\n",
    "* Dummy model\n",
    "* Dummy model but makes use of some image data\n",
    "* Dummy CNN model but include some troubleshooting and/or training/testing "
   ]
  },
  {
   "cell_type": "markdown",
   "metadata": {},
   "source": [
    "# Step 1: Doing input/output"
   ]
  },
  {
   "cell_type": "code",
   "execution_count": 4,
   "metadata": {},
   "outputs": [],
   "source": [
    "def read_data_from_file(filename, nrows=None):\n",
    "    '''\n",
    "        File is in the format of data.csv or data_nostyle.csv, \n",
    "        containing location of each image and IDs and/or la\n",
    "        filename example: 'synimg/test/data_nostyle.csv'\n",
    "    '''\n",
    "    data = pd.read_csv(ROOT_PATH + filename, nrows=nrows)\n",
    "    all_images = []\n",
    "    for idx, row in data.iterrows():\n",
    "        img = io.imread(ROOT_PATH + row['filepath'])\n",
    "        all_images.append(img)\n",
    "#     all_images.shape\n",
    "    return data, all_images\n",
    "\n",
    "\n",
    "def read_labels():\n",
    "    style_labels = pd.read_csv(ROOT_PATH + 'synimg/styles.txt', names=['style'])\n",
    "    label_to_labelId, labelId_to_label = {}, {}\n",
    "    for idx, style in enumerate(style_labels['style']):\n",
    "        label_to_labelId[style] = idx\n",
    "        labelId_to_label[idx] = style\n",
    "    return style_labels, label_to_labelId, labelId_to_label\n",
    "    "
   ]
  },
  {
   "cell_type": "code",
   "execution_count": 5,
   "metadata": {},
   "outputs": [
    {
     "name": "stdout",
     "output_type": "stream",
     "text": [
      "Shape & Binary format of each image (32, 64, 3) \n",
      " [[[  0   4   2]\n",
      "  [  0   2  21]\n",
      "  [  0   4  18]\n",
      "  [  0  10   0]\n",
      "  [  0  16   0]\n",
      "  [  0  13   0]\n",
      "  [  0   9  13]\n",
      "  [  0  13  41]\n",
      "  [  0  13  46]\n",
      "  [  0   9  75]\n",
      "  [  1   0 130]\n",
      "  [  2   0 167]\n",
      "  [  4   0 157]\n",
      "  [  6   0 136]\n",
      "  [  5   0 145]\n",
      "  [  5   0 169]\n",
      "  [  2   6   9]\n",
      "  [  0   4   0]\n",
      "  [  0   1   7]\n",
      "  [  0   0  69]\n",
      "  [  0   0 118]\n",
      "  [  0   0 104]\n",
      "  [  0   2  48]\n",
      "  [  0   1  28]\n",
      "  [  0   0  72]\n",
      "  [  0   0 100]\n",
      "  [  0   0  76]\n",
      "  [  0   0  27]\n",
      "  [  0   2   0]\n",
      "  [  0   0   2]\n",
      "  [  2   0  18]\n",
      "  [  7   1  27]\n",
      "  [  4   0   7]\n",
      "  [  4   0   4]\n",
      "  [ 16  11   8]\n",
      "  [255 255 244]\n",
      "  [254 253 233]\n",
      "  [252 252 226]\n",
      "  [255 255 230]\n",
      "  [255 255 232]\n",
      "  [254 255 232]\n",
      "  [254 255 234]\n",
      "  [254 255 235]\n",
      "  [254 255 235]\n",
      "  [254 255 232]\n",
      "  [254 255 228]\n",
      "  [253 255 225]\n",
      "  [253 255 223]\n",
      "  [254 255 239]\n",
      "  [254 255 239]\n",
      "  [254 255 239]\n",
      "  [254 255 239]\n",
      "  [254 255 239]\n",
      "  [254 255 239]\n",
      "  [254 255 239]\n",
      "  [254 255 239]\n",
      "  [254 255 239]\n",
      "  [254 255 239]\n",
      "  [254 255 239]\n",
      "  [254 255 239]\n",
      "  [254 255 239]\n",
      "  [254 255 239]\n",
      "  [254 255 239]\n",
      "  [254 255 239]]]\n"
     ]
    },
    {
     "data": {
      "text/html": [
       "<div>\n",
       "<style scoped>\n",
       "    .dataframe tbody tr th:only-of-type {\n",
       "        vertical-align: middle;\n",
       "    }\n",
       "\n",
       "    .dataframe tbody tr th {\n",
       "        vertical-align: top;\n",
       "    }\n",
       "\n",
       "    .dataframe thead th {\n",
       "        text-align: right;\n",
       "    }\n",
       "</style>\n",
       "<table border=\"1\" class=\"dataframe\">\n",
       "  <thead>\n",
       "    <tr style=\"text-align: right;\">\n",
       "      <th></th>\n",
       "      <th>id</th>\n",
       "      <th>style_name</th>\n",
       "      <th>file</th>\n",
       "      <th>filepath</th>\n",
       "      <th>labelId</th>\n",
       "    </tr>\n",
       "  </thead>\n",
       "  <tbody>\n",
       "    <tr>\n",
       "      <th>90</th>\n",
       "      <td>1000090</td>\n",
       "      <td>Luanda</td>\n",
       "      <td>train-Luanda-1000090.jpg</td>\n",
       "      <td>synimg/train/Luanda/train-Luanda-1000090.jpg</td>\n",
       "      <td>0</td>\n",
       "    </tr>\n",
       "    <tr>\n",
       "      <th>91</th>\n",
       "      <td>1000091</td>\n",
       "      <td>Luanda</td>\n",
       "      <td>train-Luanda-1000091.jpg</td>\n",
       "      <td>synimg/train/Luanda/train-Luanda-1000091.jpg</td>\n",
       "      <td>0</td>\n",
       "    </tr>\n",
       "    <tr>\n",
       "      <th>92</th>\n",
       "      <td>1000092</td>\n",
       "      <td>Luanda</td>\n",
       "      <td>train-Luanda-1000092.jpg</td>\n",
       "      <td>synimg/train/Luanda/train-Luanda-1000092.jpg</td>\n",
       "      <td>0</td>\n",
       "    </tr>\n",
       "    <tr>\n",
       "      <th>93</th>\n",
       "      <td>1000093</td>\n",
       "      <td>Luanda</td>\n",
       "      <td>train-Luanda-1000093.jpg</td>\n",
       "      <td>synimg/train/Luanda/train-Luanda-1000093.jpg</td>\n",
       "      <td>0</td>\n",
       "    </tr>\n",
       "    <tr>\n",
       "      <th>94</th>\n",
       "      <td>1000094</td>\n",
       "      <td>Luanda</td>\n",
       "      <td>train-Luanda-1000094.jpg</td>\n",
       "      <td>synimg/train/Luanda/train-Luanda-1000094.jpg</td>\n",
       "      <td>0</td>\n",
       "    </tr>\n",
       "    <tr>\n",
       "      <th>95</th>\n",
       "      <td>1000095</td>\n",
       "      <td>Luanda</td>\n",
       "      <td>train-Luanda-1000095.jpg</td>\n",
       "      <td>synimg/train/Luanda/train-Luanda-1000095.jpg</td>\n",
       "      <td>0</td>\n",
       "    </tr>\n",
       "    <tr>\n",
       "      <th>96</th>\n",
       "      <td>1000096</td>\n",
       "      <td>Luanda</td>\n",
       "      <td>train-Luanda-1000096.jpg</td>\n",
       "      <td>synimg/train/Luanda/train-Luanda-1000096.jpg</td>\n",
       "      <td>0</td>\n",
       "    </tr>\n",
       "    <tr>\n",
       "      <th>97</th>\n",
       "      <td>1000097</td>\n",
       "      <td>Luanda</td>\n",
       "      <td>train-Luanda-1000097.jpg</td>\n",
       "      <td>synimg/train/Luanda/train-Luanda-1000097.jpg</td>\n",
       "      <td>0</td>\n",
       "    </tr>\n",
       "    <tr>\n",
       "      <th>98</th>\n",
       "      <td>1000098</td>\n",
       "      <td>Luanda</td>\n",
       "      <td>train-Luanda-1000098.jpg</td>\n",
       "      <td>synimg/train/Luanda/train-Luanda-1000098.jpg</td>\n",
       "      <td>0</td>\n",
       "    </tr>\n",
       "    <tr>\n",
       "      <th>99</th>\n",
       "      <td>1000099</td>\n",
       "      <td>Luanda</td>\n",
       "      <td>train-Luanda-1000099.jpg</td>\n",
       "      <td>synimg/train/Luanda/train-Luanda-1000099.jpg</td>\n",
       "      <td>0</td>\n",
       "    </tr>\n",
       "  </tbody>\n",
       "</table>\n",
       "</div>"
      ],
      "text/plain": [
       "         id   ...   labelId\n",
       "90  1000090   ...         0\n",
       "91  1000091   ...         0\n",
       "92  1000092   ...         0\n",
       "93  1000093   ...         0\n",
       "94  1000094   ...         0\n",
       "95  1000095   ...         0\n",
       "96  1000096   ...         0\n",
       "97  1000097   ...         0\n",
       "98  1000098   ...         0\n",
       "99  1000099   ...         0\n",
       "\n",
       "[10 rows x 5 columns]"
      ]
     },
     "execution_count": 5,
     "metadata": {},
     "output_type": "execute_result"
    }
   ],
   "source": [
    "style_labels, label_to_labelId, labelId_to_label = read_labels()\n",
    "\n",
    "train_data, train_images = read_data_from_file('synimg/train/data.csv', nrows=100)\n",
    "print(\"Shape & Binary format of each image\", train_images[0].shape, \"\\n\", train_images[0][:1])\n",
    "train_data['labelId'] = train_data['style_name'].map(label_to_labelId)\n",
    "train_data.tail(10)\n"
   ]
  },
  {
   "cell_type": "code",
   "execution_count": 6,
   "metadata": {},
   "outputs": [
    {
     "data": {
      "text/plain": [
       "<matplotlib.image.AxesImage at 0x7fafa5774c88>"
      ]
     },
     "execution_count": 6,
     "metadata": {},
     "output_type": "execute_result"
    },
    {
     "data": {
      "image/png": "[encoded data removed]",
      "text/plain": [
       "<Figure size 432x288 with 1 Axes>"
      ]
     },
     "metadata": {
      "needs_background": "light"
     },
     "output_type": "display_data"
    }
   ],
   "source": [
    "plt.imshow(train_images[0])"
   ]
  },
  {
   "cell_type": "markdown",
   "metadata": {},
   "source": [
    "# Step 2: Model"
   ]
  },
  {
   "cell_type": "code",
   "execution_count": 7,
   "metadata": {},
   "outputs": [],
   "source": [
    "import random\n",
    "from random import randint\n",
    "\n",
    "def dummy_model(images):\n",
    "    ''' Dummy model for now '''\n",
    "    preds = np.zeros(len(images))\n",
    "    for idx, img in enumerate(images):\n",
    "        preds[idx] = random.randint(0, len(label_to_labelId) - 1)\n",
    "    return preds\n",
    "    "
   ]
  },
  {
   "cell_type": "markdown",
   "metadata": {},
   "source": [
    "# Step 3: Preparing the output"
   ]
  },
  {
   "cell_type": "code",
   "execution_count": 8,
   "metadata": {},
   "outputs": [
    {
     "data": {
      "text/html": [
       "<div>\n",
       "<style scoped>\n",
       "    .dataframe tbody tr th:only-of-type {\n",
       "        vertical-align: middle;\n",
       "    }\n",
       "\n",
       "    .dataframe tbody tr th {\n",
       "        vertical-align: top;\n",
       "    }\n",
       "\n",
       "    .dataframe thead th {\n",
       "        text-align: right;\n",
       "    }\n",
       "</style>\n",
       "<table border=\"1\" class=\"dataframe\">\n",
       "  <thead>\n",
       "    <tr style=\"text-align: right;\">\n",
       "      <th></th>\n",
       "      <th>id</th>\n",
       "      <th>file</th>\n",
       "      <th>filepath</th>\n",
       "    </tr>\n",
       "  </thead>\n",
       "  <tbody>\n",
       "    <tr>\n",
       "      <th>0</th>\n",
       "      <td>9000000</td>\n",
       "      <td>test-A-9000000.jpg</td>\n",
       "      <td>synimg/test/A/test-A-9000000.jpg</td>\n",
       "    </tr>\n",
       "  </tbody>\n",
       "</table>\n",
       "</div>"
      ],
      "text/plain": [
       "        id                ...                                         filepath\n",
       "0  9000000                ...                 synimg/test/A/test-A-9000000.jpg\n",
       "\n",
       "[1 rows x 3 columns]"
      ]
     },
     "execution_count": 8,
     "metadata": {},
     "output_type": "execute_result"
    }
   ],
   "source": [
    "test_imgs = pd.read_csv('../input/synimg/synimg/test/data_nostyle.csv', nrows=10)\n",
    "test_imgs.head(1)"
   ]
  },
  {
   "cell_type": "code",
   "execution_count": 9,
   "metadata": {},
   "outputs": [],
   "source": [
    "test_data, test_images = read_data_from_file('synimg/test/data_nostyle.csv', nrows=10)\n"
   ]
  },
  {
   "cell_type": "markdown",
   "metadata": {},
   "source": [
    "Making prediction"
   ]
  },
  {
   "cell_type": "code",
   "execution_count": 10,
   "metadata": {},
   "outputs": [
    {
     "name": "stdout",
     "output_type": "stream",
     "text": [
      "Counter({'Geneva': 2, 'Singapore': 2, 'Zurich': 1, 'Sydney': 1, 'Luanda': 1, 'Beijing': 1, 'Brisbane': 1, 'Melbourne': 1})\n"
     ]
    }
   ],
   "source": [
    "pred_labels = dummy_model(test_images)\n",
    "test_data['label_id'] = pred_labels\n",
    "test_data['style_name'] = test_data['label_id'].map(labelId_to_label)\n",
    "\n",
    "# Some vaidaition of the output\n",
    "from collections import Counter\n",
    "print(Counter(test_data['style_name']))"
   ]
  },
  {
   "cell_type": "markdown",
   "metadata": {},
   "source": [
    "### Prepare submission file"
   ]
  },
  {
   "cell_type": "code",
   "execution_count": 11,
   "metadata": {},
   "outputs": [],
   "source": [
    "test_data[['id', 'style_name']].to_csv('../submit.csv', index=False)"
   ]
  },
  {
   "cell_type": "code",
   "execution_count": null,
   "metadata": {},
   "outputs": [],
   "source": []
  }
 ],
 "metadata": {
  "kernelspec": {
   "display_name": "Python 3",
   "language": "python",
   "name": "python3"
  },
  "language_info": {
   "codemirror_mode": {
    "name": "ipython",
    "version": 3
   },
   "file_extension": ".py",
   "mimetype": "text/x-python",
   "name": "python",
   "nbconvert_exporter": "python",
   "pygments_lexer": "ipython3",
   "version": "3.6.6"
  }
 },
 "nbformat": 4,
 "nbformat_minor": 2
}
